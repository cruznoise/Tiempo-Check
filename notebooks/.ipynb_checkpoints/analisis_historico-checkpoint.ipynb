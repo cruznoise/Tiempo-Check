{
 "cells": [
  {
   "cell_type": "markdown",
   "id": "564f2eed",
   "metadata": {},
   "source": [
    "# Análisis Histórico de TiempoCheck\n",
    "Este notebook analiza los datos de navegación exportados desde TiempoCheck."
   ]
  },
  {
   "cell_type": "code",
   "execution_count": null,
   "id": "12f358e7",
   "metadata": {},
   "outputs": [],
   "source": [
    "import pandas as pd\n",
    "import matplotlib.pyplot as plt\n",
    "import seaborn as sns\n",
    "\n",
    "# Cargar el dataset exportado\n",
    "df = pd.read_csv('../ml/dataset/dataset_usuario_1.csv')\n",
    "df.head()\n"
   ]
  },
  {
   "cell_type": "markdown",
   "id": "1fb2522e",
   "metadata": {},
   "source": [
    "## Distribución de tiempo por categoría"
   ]
  },
  {
   "cell_type": "code",
   "execution_count": null,
   "id": "284c0bce",
   "metadata": {},
   "outputs": [],
   "source": [
    "categoria_agrupada = df.groupby('categoria')['tiempo_minutos'].sum().sort_values(ascending=False)\n",
    "categoria_agrupada.plot(kind='bar', title='Tiempo total por categoría', figsize=(10,5), color='skyblue')\n",
    "plt.ylabel(\"Minutos\")\n",
    "plt.xticks(rotation=45)\n",
    "plt.grid(axis='y')\n",
    "plt.tight_layout()\n",
    "plt.show()\n"
   ]
  },
  {
   "cell_type": "markdown",
   "id": "c658dd7f",
   "metadata": {},
   "source": [
    "## Análisis por hora del día"
   ]
  },
  {
   "cell_type": "code",
   "execution_count": null,
   "id": "57faf2d8",
   "metadata": {},
   "outputs": [],
   "source": [
    "# Convertimos la hora de string a entero (solo hora sin minutos)\n",
    "df['hora_num'] = pd.to_datetime(df['hora'], format='%H:%M').dt.hour\n",
    "hora_agrupada = df.groupby('hora_num')['tiempo_minutos'].sum()\n",
    "hora_agrupada.plot(kind='line', title='Actividad por hora del día', marker='o', figsize=(10,5))\n",
    "plt.xlabel(\"Hora del día\")\n",
    "plt.ylabel(\"Minutos\")\n",
    "plt.grid(True)\n",
    "plt.xticks(range(0, 24))\n",
    "plt.tight_layout()\n",
    "plt.show()\n"
   ]
  },
  {
   "cell_type": "markdown",
   "id": "d153da68",
   "metadata": {},
   "source": [
    "## Días más activos"
   ]
  },
  {
   "cell_type": "code",
   "execution_count": null,
   "id": "852c8d3b",
   "metadata": {},
   "outputs": [],
   "source": [
    "df['fecha'] = pd.to_datetime(df['fecha'])\n",
    "fecha_agrupada = df.groupby(df['fecha'].dt.date)['tiempo_minutos'].sum()\n",
    "fecha_agrupada.plot(kind='bar', title='Tiempo total por día', figsize=(12,5), color='orange')\n",
    "plt.ylabel(\"Minutos\")\n",
    "plt.xticks(rotation=45)\n",
    "plt.grid(axis='y')\n",
    "plt.tight_layout()\n",
    "plt.show()\n"
   ]
  },
  {
   "cell_type": "markdown",
   "id": "e0c31c70",
   "metadata": {},
   "source": [
    "##  Observaciones y próximos pasos"
   ]
  },
  {
   "cell_type": "markdown",
   "id": "e9fd1507",
   "metadata": {},
   "source": [
    "\n",
    "- ¿A qué hora es más activo el usuario?\n",
    "- ¿Qué categoría domina su día?\n",
    "- ¿Hay días en los que no hay datos?\n",
    "- Este análisis será la base para notificaciones inteligentes y entrenar IA futura.\n"
   ]
  },
  {
   "cell_type": "code",
   "execution_count": null,
   "id": "d3b50c9b-8d33-4e97-83ee-0aefb8b3564c",
   "metadata": {},
   "outputs": [],
   "source": []
  },
  {
   "cell_type": "code",
   "execution_count": null,
   "id": "266488b5-2dfc-4f82-a339-769fac07538f",
   "metadata": {},
   "outputs": [],
   "source": []
  }
 ],
 "metadata": {
  "kernelspec": {
   "display_name": "Python 3 (ipykernel)",
   "language": "python",
   "name": "python3"
  },
  "language_info": {
   "codemirror_mode": {
    "name": "ipython",
    "version": 3
   },
   "file_extension": ".py",
   "mimetype": "text/x-python",
   "name": "python",
   "nbconvert_exporter": "python",
   "pygments_lexer": "ipython3",
   "version": "3.9.6"
  }
 },
 "nbformat": 4,
 "nbformat_minor": 5
}
